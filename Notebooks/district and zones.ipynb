{
 "cells": [
  {
   "cell_type": "code",
   "execution_count": 10,
   "metadata": {},
   "outputs": [],
   "source": [
    "import requests\n",
    "import pandas as pd\n",
    "pd.set_option(\"display.max_rows\", 500)"
   ]
  },
  {
   "cell_type": "code",
   "execution_count": 2,
   "metadata": {},
   "outputs": [
    {
     "data": {
      "text/plain": [
       "dict_keys(['districtsDaily'])"
      ]
     },
     "execution_count": 2,
     "metadata": {},
     "output_type": "execute_result"
    }
   ],
   "source": [
    "r = requests.get(\"https://api.covid19india.org/districts_daily.json\").json()\n",
    "r.keys()"
   ]
  },
  {
   "cell_type": "code",
   "execution_count": 12,
   "metadata": {},
   "outputs": [],
   "source": [
    "pd.DataFrame(r['districtsDaily']).reset_index().to_csv(\"opt.csv\")"
   ]
  },
  {
   "cell_type": "code",
   "execution_count": 14,
   "metadata": {},
   "outputs": [
    {
     "data": {
      "text/plain": [
       "dict_keys(['zones'])"
      ]
     },
     "execution_count": 14,
     "metadata": {},
     "output_type": "execute_result"
    }
   ],
   "source": [
    "r = requests.get(\"https://api.covid19india.org/zones.json\").json()\n",
    "r.keys()"
   ]
  },
  {
   "cell_type": "code",
   "execution_count": 15,
   "metadata": {},
   "outputs": [
    {
     "data": {
      "text/html": [
       "<div>\n",
       "<style scoped>\n",
       "    .dataframe tbody tr th:only-of-type {\n",
       "        vertical-align: middle;\n",
       "    }\n",
       "\n",
       "    .dataframe tbody tr th {\n",
       "        vertical-align: top;\n",
       "    }\n",
       "\n",
       "    .dataframe thead th {\n",
       "        text-align: right;\n",
       "    }\n",
       "</style>\n",
       "<table border=\"1\" class=\"dataframe\">\n",
       "  <thead>\n",
       "    <tr style=\"text-align: right;\">\n",
       "      <th></th>\n",
       "      <th>district</th>\n",
       "      <th>districtcode</th>\n",
       "      <th>lastupdated</th>\n",
       "      <th>source</th>\n",
       "      <th>state</th>\n",
       "      <th>statecode</th>\n",
       "      <th>zone</th>\n",
       "    </tr>\n",
       "  </thead>\n",
       "  <tbody>\n",
       "    <tr>\n",
       "      <th>0</th>\n",
       "      <td>Nicobars</td>\n",
       "      <td>AN_Nicobars</td>\n",
       "      <td>01/05/2020</td>\n",
       "      <td>https://www.facebook.com/airnewsalerts/photos/...</td>\n",
       "      <td>Andaman and Nicobar Islands</td>\n",
       "      <td>AN</td>\n",
       "      <td>Green</td>\n",
       "    </tr>\n",
       "    <tr>\n",
       "      <th>1</th>\n",
       "      <td>North and Middle Andaman</td>\n",
       "      <td>AN_North and Middle Andaman</td>\n",
       "      <td>01/05/2020</td>\n",
       "      <td>https://www.facebook.com/airnewsalerts/photos/...</td>\n",
       "      <td>Andaman and Nicobar Islands</td>\n",
       "      <td>AN</td>\n",
       "      <td>Green</td>\n",
       "    </tr>\n",
       "    <tr>\n",
       "      <th>2</th>\n",
       "      <td>South Andaman</td>\n",
       "      <td>AN_South Andaman</td>\n",
       "      <td>01/05/2020</td>\n",
       "      <td>https://www.facebook.com/airnewsalerts/photos/...</td>\n",
       "      <td>Andaman and Nicobar Islands</td>\n",
       "      <td>AN</td>\n",
       "      <td>Red</td>\n",
       "    </tr>\n",
       "    <tr>\n",
       "      <th>3</th>\n",
       "      <td>Anantapur</td>\n",
       "      <td>AP_Anantapur</td>\n",
       "      <td>01/05/2020</td>\n",
       "      <td>https://www.facebook.com/airnewsalerts/photos/...</td>\n",
       "      <td>Andhra Pradesh</td>\n",
       "      <td>AP</td>\n",
       "      <td>Orange</td>\n",
       "    </tr>\n",
       "    <tr>\n",
       "      <th>4</th>\n",
       "      <td>Chittoor</td>\n",
       "      <td>AP_Chittoor</td>\n",
       "      <td>01/05/2020</td>\n",
       "      <td>https://www.facebook.com/airnewsalerts/photos/...</td>\n",
       "      <td>Andhra Pradesh</td>\n",
       "      <td>AP</td>\n",
       "      <td>Red</td>\n",
       "    </tr>\n",
       "    <tr>\n",
       "      <th>...</th>\n",
       "      <td>...</td>\n",
       "      <td>...</td>\n",
       "      <td>...</td>\n",
       "      <td>...</td>\n",
       "      <td>...</td>\n",
       "      <td>...</td>\n",
       "      <td>...</td>\n",
       "    </tr>\n",
       "    <tr>\n",
       "      <th>737</th>\n",
       "      <td>Paschim Bardhaman</td>\n",
       "      <td>WB_Paschim Bardhaman</td>\n",
       "      <td>01/05/2020</td>\n",
       "      <td>https://www.wbhealth.gov.in/uploaded_files/cor...</td>\n",
       "      <td>West Bengal</td>\n",
       "      <td>WB</td>\n",
       "      <td>Orange</td>\n",
       "    </tr>\n",
       "    <tr>\n",
       "      <th>738</th>\n",
       "      <td>Purba Bardhaman</td>\n",
       "      <td>WB_Purba Bardhaman</td>\n",
       "      <td>01/05/2020</td>\n",
       "      <td>https://www.wbhealth.gov.in/uploaded_files/cor...</td>\n",
       "      <td>West Bengal</td>\n",
       "      <td>WB</td>\n",
       "      <td>Orange</td>\n",
       "    </tr>\n",
       "    <tr>\n",
       "      <th>739</th>\n",
       "      <td>Purulia</td>\n",
       "      <td>WB_Purulia</td>\n",
       "      <td>01/05/2020</td>\n",
       "      <td>https://www.wbhealth.gov.in/uploaded_files/cor...</td>\n",
       "      <td>West Bengal</td>\n",
       "      <td>WB</td>\n",
       "      <td>Green</td>\n",
       "    </tr>\n",
       "    <tr>\n",
       "      <th>740</th>\n",
       "      <td>South 24 Parganas</td>\n",
       "      <td>WB_South 24 Parganas</td>\n",
       "      <td>01/05/2020</td>\n",
       "      <td>https://www.wbhealth.gov.in/uploaded_files/cor...</td>\n",
       "      <td>West Bengal</td>\n",
       "      <td>WB</td>\n",
       "      <td>Orange</td>\n",
       "    </tr>\n",
       "    <tr>\n",
       "      <th>741</th>\n",
       "      <td>Uttar Dinajpur</td>\n",
       "      <td>WB_Uttar Dinajpur</td>\n",
       "      <td>01/05/2020</td>\n",
       "      <td>https://www.wbhealth.gov.in/uploaded_files/cor...</td>\n",
       "      <td>West Bengal</td>\n",
       "      <td>WB</td>\n",
       "      <td>Green</td>\n",
       "    </tr>\n",
       "  </tbody>\n",
       "</table>\n",
       "<p>742 rows × 7 columns</p>\n",
       "</div>"
      ],
      "text/plain": [
       "                     district                 districtcode lastupdated  \\\n",
       "0                    Nicobars                  AN_Nicobars  01/05/2020   \n",
       "1    North and Middle Andaman  AN_North and Middle Andaman  01/05/2020   \n",
       "2               South Andaman             AN_South Andaman  01/05/2020   \n",
       "3                   Anantapur                 AP_Anantapur  01/05/2020   \n",
       "4                    Chittoor                  AP_Chittoor  01/05/2020   \n",
       "..                        ...                          ...         ...   \n",
       "737         Paschim Bardhaman         WB_Paschim Bardhaman  01/05/2020   \n",
       "738           Purba Bardhaman           WB_Purba Bardhaman  01/05/2020   \n",
       "739                   Purulia                   WB_Purulia  01/05/2020   \n",
       "740         South 24 Parganas         WB_South 24 Parganas  01/05/2020   \n",
       "741            Uttar Dinajpur            WB_Uttar Dinajpur  01/05/2020   \n",
       "\n",
       "                                                source  \\\n",
       "0    https://www.facebook.com/airnewsalerts/photos/...   \n",
       "1    https://www.facebook.com/airnewsalerts/photos/...   \n",
       "2    https://www.facebook.com/airnewsalerts/photos/...   \n",
       "3    https://www.facebook.com/airnewsalerts/photos/...   \n",
       "4    https://www.facebook.com/airnewsalerts/photos/...   \n",
       "..                                                 ...   \n",
       "737  https://www.wbhealth.gov.in/uploaded_files/cor...   \n",
       "738  https://www.wbhealth.gov.in/uploaded_files/cor...   \n",
       "739  https://www.wbhealth.gov.in/uploaded_files/cor...   \n",
       "740  https://www.wbhealth.gov.in/uploaded_files/cor...   \n",
       "741  https://www.wbhealth.gov.in/uploaded_files/cor...   \n",
       "\n",
       "                           state statecode    zone  \n",
       "0    Andaman and Nicobar Islands        AN   Green  \n",
       "1    Andaman and Nicobar Islands        AN   Green  \n",
       "2    Andaman and Nicobar Islands        AN     Red  \n",
       "3                 Andhra Pradesh        AP  Orange  \n",
       "4                 Andhra Pradesh        AP     Red  \n",
       "..                           ...       ...     ...  \n",
       "737                  West Bengal        WB  Orange  \n",
       "738                  West Bengal        WB  Orange  \n",
       "739                  West Bengal        WB   Green  \n",
       "740                  West Bengal        WB  Orange  \n",
       "741                  West Bengal        WB   Green  \n",
       "\n",
       "[742 rows x 7 columns]"
      ]
     },
     "execution_count": 15,
     "metadata": {},
     "output_type": "execute_result"
    }
   ],
   "source": [
    "pd.DataFrame(r['zones'])"
   ]
  },
  {
   "cell_type": "code",
   "execution_count": null,
   "metadata": {},
   "outputs": [],
   "source": []
  }
 ],
 "metadata": {
  "kernelspec": {
   "display_name": "Python 3",
   "language": "python",
   "name": "python3"
  },
  "language_info": {
   "codemirror_mode": {
    "name": "ipython",
    "version": 3
   },
   "file_extension": ".py",
   "mimetype": "text/x-python",
   "name": "python",
   "nbconvert_exporter": "python",
   "pygments_lexer": "ipython3",
   "version": "3.8.2"
  }
 },
 "nbformat": 4,
 "nbformat_minor": 4
}
